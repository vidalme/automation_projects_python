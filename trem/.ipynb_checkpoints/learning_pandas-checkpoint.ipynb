{
 "cells": [
  {
   "cell_type": "code",
   "execution_count": 5,
   "id": "554ad85f-ca19-488b-bae4-e79d64dc77ac",
   "metadata": {},
   "outputs": [],
   "source": [
    "import pandas as pd"
   ]
  },
  {
   "cell_type": "code",
   "execution_count": 6,
   "id": "f52d2b16-d91a-4dca-853e-4818cd1b5fb4",
   "metadata": {},
   "outputs": [],
   "source": [
    "df = pd.read_excel('colaboradores.xls')"
   ]
  },
  {
   "cell_type": "code",
   "execution_count": 19,
   "id": "56377263-109c-4a77-bfc7-a16ea6e5989f",
   "metadata": {},
   "outputs": [
    {
     "data": {
      "text/html": [
       "<div>\n",
       "<style scoped>\n",
       "    .dataframe tbody tr th:only-of-type {\n",
       "        vertical-align: middle;\n",
       "    }\n",
       "\n",
       "    .dataframe tbody tr th {\n",
       "        vertical-align: top;\n",
       "    }\n",
       "\n",
       "    .dataframe thead th {\n",
       "        text-align: right;\n",
       "    }\n",
       "</style>\n",
       "<table border=\"1\" class=\"dataframe\">\n",
       "  <thead>\n",
       "    <tr style=\"text-align: right;\">\n",
       "      <th></th>\n",
       "      <th>Nome</th>\n",
       "      <th>E-mail</th>\n",
       "      <th>Departamento</th>\n",
       "      <th>Telefone</th>\n",
       "      <th>Data de Expiração da Senha</th>\n",
       "    </tr>\n",
       "  </thead>\n",
       "  <tbody>\n",
       "    <tr>\n",
       "      <th>0</th>\n",
       "      <td>Manuela Souza</td>\n",
       "      <td>manuela_souza@alucario.com.br</td>\n",
       "      <td>Financeiro</td>\n",
       "      <td>(32) 98116-8886</td>\n",
       "      <td>31/12/2023</td>\n",
       "    </tr>\n",
       "    <tr>\n",
       "      <th>1</th>\n",
       "      <td>Benjamin Lopes</td>\n",
       "      <td>benjamin_lopes@alucario.com.br</td>\n",
       "      <td>Financeiro</td>\n",
       "      <td>(95) 93359-6627</td>\n",
       "      <td>31/12/2023</td>\n",
       "    </tr>\n",
       "    <tr>\n",
       "      <th>2</th>\n",
       "      <td>Lucas Monteiro</td>\n",
       "      <td>lucas_monteiro@alucario.com.br</td>\n",
       "      <td>TI</td>\n",
       "      <td>(67) 92462-9079</td>\n",
       "      <td>31/12/2023</td>\n",
       "    </tr>\n",
       "    <tr>\n",
       "      <th>3</th>\n",
       "      <td>Lívia Barros</td>\n",
       "      <td>lívia_barros@alucario.com.br</td>\n",
       "      <td>TI</td>\n",
       "      <td>(33) 98321-1705</td>\n",
       "      <td>31/12/2023</td>\n",
       "    </tr>\n",
       "    <tr>\n",
       "      <th>4</th>\n",
       "      <td>Enzo Gabriel Oliveira</td>\n",
       "      <td>enzo_gabriel_oliveira@alucario.com.br</td>\n",
       "      <td>Jurídico</td>\n",
       "      <td>(85) 94175-1519</td>\n",
       "      <td>31/12/2023</td>\n",
       "    </tr>\n",
       "    <tr>\n",
       "      <th>5</th>\n",
       "      <td>João Miguel Lima</td>\n",
       "      <td>joão_miguel_lima@alucario.com.br</td>\n",
       "      <td>Administrativo</td>\n",
       "      <td>(18) 96777-6484</td>\n",
       "      <td>31/12/2023</td>\n",
       "    </tr>\n",
       "    <tr>\n",
       "      <th>6</th>\n",
       "      <td>Gabriel Ribeiro</td>\n",
       "      <td>gabriel_ribeiro@alucario.com.br</td>\n",
       "      <td>Administrativo</td>\n",
       "      <td>(47) 91025-6471</td>\n",
       "      <td>31/12/2023</td>\n",
       "    </tr>\n",
       "    <tr>\n",
       "      <th>7</th>\n",
       "      <td>João Miguel Pereira</td>\n",
       "      <td>joão_miguel_pereira@alucario.com.br</td>\n",
       "      <td>Marketing</td>\n",
       "      <td>(77) 96302-6127</td>\n",
       "      <td>31/12/2023</td>\n",
       "    </tr>\n",
       "    <tr>\n",
       "      <th>8</th>\n",
       "      <td>Valentina Monteiro</td>\n",
       "      <td>valentina_monteiro@alucario.com.br</td>\n",
       "      <td>Administrativo</td>\n",
       "      <td>(52) 99412-4187</td>\n",
       "      <td>31/12/2023</td>\n",
       "    </tr>\n",
       "    <tr>\n",
       "      <th>9</th>\n",
       "      <td>Joaquim Barros</td>\n",
       "      <td>joaquim_barros@alucario.com.br</td>\n",
       "      <td>Marketing</td>\n",
       "      <td>(82) 92655-7328</td>\n",
       "      <td>31/12/2023</td>\n",
       "    </tr>\n",
       "  </tbody>\n",
       "</table>\n",
       "</div>"
      ],
      "text/plain": [
       "                    Nome                                 E-mail  \\\n",
       "0          Manuela Souza          manuela_souza@alucario.com.br   \n",
       "1         Benjamin Lopes         benjamin_lopes@alucario.com.br   \n",
       "2         Lucas Monteiro         lucas_monteiro@alucario.com.br   \n",
       "3           Lívia Barros           lívia_barros@alucario.com.br   \n",
       "4  Enzo Gabriel Oliveira  enzo_gabriel_oliveira@alucario.com.br   \n",
       "5       João Miguel Lima       joão_miguel_lima@alucario.com.br   \n",
       "6        Gabriel Ribeiro        gabriel_ribeiro@alucario.com.br   \n",
       "7    João Miguel Pereira    joão_miguel_pereira@alucario.com.br   \n",
       "8     Valentina Monteiro     valentina_monteiro@alucario.com.br   \n",
       "9         Joaquim Barros         joaquim_barros@alucario.com.br   \n",
       "\n",
       "     Departamento         Telefone Data de Expiração da Senha  \n",
       "0      Financeiro  (32) 98116-8886                 31/12/2023  \n",
       "1      Financeiro  (95) 93359-6627                 31/12/2023  \n",
       "2              TI  (67) 92462-9079                 31/12/2023  \n",
       "3              TI  (33) 98321-1705                 31/12/2023  \n",
       "4        Jurídico  (85) 94175-1519                 31/12/2023  \n",
       "5  Administrativo  (18) 96777-6484                 31/12/2023  \n",
       "6  Administrativo  (47) 91025-6471                 31/12/2023  \n",
       "7       Marketing  (77) 96302-6127                 31/12/2023  \n",
       "8  Administrativo  (52) 99412-4187                 31/12/2023  \n",
       "9       Marketing  (82) 92655-7328                 31/12/2023  "
      ]
     },
     "execution_count": 19,
     "metadata": {},
     "output_type": "execute_result"
    }
   ],
   "source": [
    "df.head(10)"
   ]
  },
  {
   "cell_type": "markdown",
   "id": "7f648038-d729-4275-814e-4e23220f8912",
   "metadata": {},
   "source": [
    "Da o numero de linhas e colunas"
   ]
  },
  {
   "cell_type": "code",
   "execution_count": 11,
   "id": "c041bfd3-47af-40af-82d2-542ac964b49c",
   "metadata": {},
   "outputs": [
    {
     "data": {
      "text/plain": [
       "(50, 5)"
      ]
     },
     "execution_count": 11,
     "metadata": {},
     "output_type": "execute_result"
    }
   ],
   "source": [
    "df.shape"
   ]
  },
  {
   "cell_type": "markdown",
   "id": "8375ba98-16fe-415b-a968-55c8d148a270",
   "metadata": {},
   "source": [
    "ordenamos qualquer coluna com o metodo sort_values()"
   ]
  },
  {
   "cell_type": "code",
   "execution_count": 16,
   "id": "b4c1d923-d8c0-400f-83b3-5e4dd73d6d98",
   "metadata": {},
   "outputs": [],
   "source": [
    "sorted_column = df.sort_values(['Nome'], ascending=True)"
   ]
  },
  {
   "cell_type": "code",
   "execution_count": 18,
   "id": "1da942ae-f0b8-47b4-80ea-f20c57fb3c0b",
   "metadata": {},
   "outputs": [
    {
     "data": {
      "text/html": [
       "<div>\n",
       "<style scoped>\n",
       "    .dataframe tbody tr th:only-of-type {\n",
       "        vertical-align: middle;\n",
       "    }\n",
       "\n",
       "    .dataframe tbody tr th {\n",
       "        vertical-align: top;\n",
       "    }\n",
       "\n",
       "    .dataframe thead th {\n",
       "        text-align: right;\n",
       "    }\n",
       "</style>\n",
       "<table border=\"1\" class=\"dataframe\">\n",
       "  <thead>\n",
       "    <tr style=\"text-align: right;\">\n",
       "      <th></th>\n",
       "      <th>Nome</th>\n",
       "      <th>E-mail</th>\n",
       "      <th>Departamento</th>\n",
       "      <th>Telefone</th>\n",
       "      <th>Data de Expiração da Senha</th>\n",
       "    </tr>\n",
       "  </thead>\n",
       "  <tbody>\n",
       "    <tr>\n",
       "      <th>20</th>\n",
       "      <td>Alice Ferreira</td>\n",
       "      <td>alice_ferreira@alucario.com.br</td>\n",
       "      <td>TI</td>\n",
       "      <td>(72) 92937-1833</td>\n",
       "      <td>31/12/2023</td>\n",
       "    </tr>\n",
       "    <tr>\n",
       "      <th>49</th>\n",
       "      <td>Arthur Lopes</td>\n",
       "      <td>arthur_lopes@alucario.com.br</td>\n",
       "      <td>Administrativo</td>\n",
       "      <td>(34) 92071-1261</td>\n",
       "      <td>31/12/2023</td>\n",
       "    </tr>\n",
       "    <tr>\n",
       "      <th>46</th>\n",
       "      <td>Beatriz Gomes</td>\n",
       "      <td>beatriz_gomes@alucario.com.br</td>\n",
       "      <td>TI</td>\n",
       "      <td>(94) 96601-1907</td>\n",
       "      <td>31/12/2023</td>\n",
       "    </tr>\n",
       "    <tr>\n",
       "      <th>1</th>\n",
       "      <td>Benjamin Lopes</td>\n",
       "      <td>benjamin_lopes@alucario.com.br</td>\n",
       "      <td>Financeiro</td>\n",
       "      <td>(95) 93359-6627</td>\n",
       "      <td>31/12/2023</td>\n",
       "    </tr>\n",
       "    <tr>\n",
       "      <th>11</th>\n",
       "      <td>Davi Rodrigues</td>\n",
       "      <td>davi_rodrigues@alucario.com.br</td>\n",
       "      <td>Marketing</td>\n",
       "      <td>(93) 96861-5020</td>\n",
       "      <td>31/12/2023</td>\n",
       "    </tr>\n",
       "  </tbody>\n",
       "</table>\n",
       "</div>"
      ],
      "text/plain": [
       "              Nome                          E-mail    Departamento  \\\n",
       "20  Alice Ferreira  alice_ferreira@alucario.com.br              TI   \n",
       "49    Arthur Lopes    arthur_lopes@alucario.com.br  Administrativo   \n",
       "46   Beatriz Gomes   beatriz_gomes@alucario.com.br              TI   \n",
       "1   Benjamin Lopes  benjamin_lopes@alucario.com.br      Financeiro   \n",
       "11  Davi Rodrigues  davi_rodrigues@alucario.com.br       Marketing   \n",
       "\n",
       "           Telefone Data de Expiração da Senha  \n",
       "20  (72) 92937-1833                 31/12/2023  \n",
       "49  (34) 92071-1261                 31/12/2023  \n",
       "46  (94) 96601-1907                 31/12/2023  \n",
       "1   (95) 93359-6627                 31/12/2023  \n",
       "11  (93) 96861-5020                 31/12/2023  "
      ]
     },
     "execution_count": 18,
     "metadata": {},
     "output_type": "execute_result"
    }
   ],
   "source": [
    "sorted_column.head(5)"
   ]
  },
  {
   "cell_type": "code",
   "execution_count": null,
   "id": "d1e1ddb3-6dd5-4498-a5fd-ad577d1b7c1f",
   "metadata": {},
   "outputs": [],
   "source": [
    "df['Nome'].tail()"
   ]
  }
 ],
 "metadata": {
  "kernelspec": {
   "display_name": "trem_envir",
   "language": "python",
   "name": "trem_envir"
  },
  "language_info": {
   "codemirror_mode": {
    "name": "ipython",
    "version": 3
   },
   "file_extension": ".py",
   "mimetype": "text/x-python",
   "name": "python",
   "nbconvert_exporter": "python",
   "pygments_lexer": "ipython3",
   "version": "3.12.2"
  }
 },
 "nbformat": 4,
 "nbformat_minor": 5
}
